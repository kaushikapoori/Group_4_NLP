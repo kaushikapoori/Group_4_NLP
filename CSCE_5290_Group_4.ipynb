{
  "nbformat": 4,
  "nbformat_minor": 0,
  "metadata": {
    "colab": {
      "provenance": []
    },
    "kernelspec": {
      "name": "python3",
      "display_name": "Python 3"
    },
    "language_info": {
      "name": "python"
    }
  },
  "cells": [
    {
      "cell_type": "markdown",
      "source": [
        "# **Group - 4 Aspect-Based Sentiment Analysis on Starbucks Reviews**"
      ],
      "metadata": {
        "id": "SvBYQM9xEhfn"
      }
    },
    {
      "cell_type": "markdown",
      "source": [
        "Team Details:\n",
        "\n",
        "Deepu Gondhi - 11737274\n",
        "\n",
        "Kaushik Apoori - 11705023\n",
        "\n",
        "Manumitha Kamarapu - 11684243\n",
        "\n",
        "Teena Poorna Sudheera Maganti - 11755850"
      ],
      "metadata": {
        "id": "FNm-q5dDE4l2"
      }
    },
    {
      "cell_type": "code",
      "execution_count": 13,
      "metadata": {
        "colab": {
          "base_uri": "https://localhost:8080/"
        },
        "id": "QrK28MnB828I",
        "outputId": "ec1261f3-c2f4-4e2c-b2ba-eed8e24c200d"
      },
      "outputs": [
        {
          "output_type": "stream",
          "name": "stdout",
          "text": [
            "Requirement already satisfied: transformers in /usr/local/lib/python3.10/dist-packages (4.44.2)\n",
            "Requirement already satisfied: pandas in /usr/local/lib/python3.10/dist-packages (2.2.2)\n",
            "Requirement already satisfied: numpy in /usr/local/lib/python3.10/dist-packages (1.26.4)\n",
            "Requirement already satisfied: matplotlib in /usr/local/lib/python3.10/dist-packages (3.8.0)\n",
            "Requirement already satisfied: seaborn in /usr/local/lib/python3.10/dist-packages (0.13.2)\n",
            "Requirement already satisfied: filelock in /usr/local/lib/python3.10/dist-packages (from transformers) (3.16.1)\n",
            "Requirement already satisfied: huggingface-hub<1.0,>=0.23.2 in /usr/local/lib/python3.10/dist-packages (from transformers) (0.24.7)\n",
            "Requirement already satisfied: packaging>=20.0 in /usr/local/lib/python3.10/dist-packages (from transformers) (24.1)\n",
            "Requirement already satisfied: pyyaml>=5.1 in /usr/local/lib/python3.10/dist-packages (from transformers) (6.0.2)\n",
            "Requirement already satisfied: regex!=2019.12.17 in /usr/local/lib/python3.10/dist-packages (from transformers) (2024.9.11)\n",
            "Requirement already satisfied: requests in /usr/local/lib/python3.10/dist-packages (from transformers) (2.32.3)\n",
            "Requirement already satisfied: safetensors>=0.4.1 in /usr/local/lib/python3.10/dist-packages (from transformers) (0.4.5)\n",
            "Requirement already satisfied: tokenizers<0.20,>=0.19 in /usr/local/lib/python3.10/dist-packages (from transformers) (0.19.1)\n",
            "Requirement already satisfied: tqdm>=4.27 in /usr/local/lib/python3.10/dist-packages (from transformers) (4.66.6)\n",
            "Requirement already satisfied: python-dateutil>=2.8.2 in /usr/local/lib/python3.10/dist-packages (from pandas) (2.8.2)\n",
            "Requirement already satisfied: pytz>=2020.1 in /usr/local/lib/python3.10/dist-packages (from pandas) (2024.2)\n",
            "Requirement already satisfied: tzdata>=2022.7 in /usr/local/lib/python3.10/dist-packages (from pandas) (2024.2)\n",
            "Requirement already satisfied: contourpy>=1.0.1 in /usr/local/lib/python3.10/dist-packages (from matplotlib) (1.3.0)\n",
            "Requirement already satisfied: cycler>=0.10 in /usr/local/lib/python3.10/dist-packages (from matplotlib) (0.12.1)\n",
            "Requirement already satisfied: fonttools>=4.22.0 in /usr/local/lib/python3.10/dist-packages (from matplotlib) (4.54.1)\n",
            "Requirement already satisfied: kiwisolver>=1.0.1 in /usr/local/lib/python3.10/dist-packages (from matplotlib) (1.4.7)\n",
            "Requirement already satisfied: pillow>=6.2.0 in /usr/local/lib/python3.10/dist-packages (from matplotlib) (10.4.0)\n",
            "Requirement already satisfied: pyparsing>=2.3.1 in /usr/local/lib/python3.10/dist-packages (from matplotlib) (3.2.0)\n",
            "Requirement already satisfied: fsspec>=2023.5.0 in /usr/local/lib/python3.10/dist-packages (from huggingface-hub<1.0,>=0.23.2->transformers) (2024.10.0)\n",
            "Requirement already satisfied: typing-extensions>=3.7.4.3 in /usr/local/lib/python3.10/dist-packages (from huggingface-hub<1.0,>=0.23.2->transformers) (4.12.2)\n",
            "Requirement already satisfied: six>=1.5 in /usr/local/lib/python3.10/dist-packages (from python-dateutil>=2.8.2->pandas) (1.16.0)\n",
            "Requirement already satisfied: charset-normalizer<4,>=2 in /usr/local/lib/python3.10/dist-packages (from requests->transformers) (3.4.0)\n",
            "Requirement already satisfied: idna<4,>=2.5 in /usr/local/lib/python3.10/dist-packages (from requests->transformers) (3.10)\n",
            "Requirement already satisfied: urllib3<3,>=1.21.1 in /usr/local/lib/python3.10/dist-packages (from requests->transformers) (2.2.3)\n",
            "Requirement already satisfied: certifi>=2017.4.17 in /usr/local/lib/python3.10/dist-packages (from requests->transformers) (2024.8.30)\n"
          ]
        }
      ],
      "source": [
        "!pip install transformers pandas numpy matplotlib seaborn\n"
      ]
    },
    {
      "cell_type": "code",
      "source": [
        "import pandas as pan\n",
        "\n",
        "# Loading the dataset of starbucks\n",
        "df = pd.read_csv('/content/reviews_data.csv')\n",
        "print(df.head())\n"
      ],
      "metadata": {
        "colab": {
          "base_uri": "https://localhost:8080/"
        },
        "id": "ivYvL0Km9KdB",
        "outputId": "50030961-74f9-42cb-9ebf-fa56d4e9dc4e"
      },
      "execution_count": 14,
      "outputs": [
        {
          "output_type": "stream",
          "name": "stdout",
          "text": [
            "       name           location                     Date  Rating  \\\n",
            "0     Helen  Wichita Falls, TX  Reviewed Sept. 13, 2023     5.0   \n",
            "1  Courtney         Apopka, FL   Reviewed July 16, 2023     5.0   \n",
            "2  Daynelle  Cranberry Twp, PA    Reviewed July 5, 2023     5.0   \n",
            "3    Taylor        Seattle, WA    Reviewed May 26, 2023     5.0   \n",
            "4   Tenessa        Gresham, OR   Reviewed Jan. 22, 2023     5.0   \n",
            "\n",
            "                                              Review  \\\n",
            "0  Amber and LaDonna at the Starbucks on Southwes...   \n",
            "1  ** at the Starbucks by the fire station on 436...   \n",
            "2  I just wanted to go out of my way to recognize...   \n",
            "3  Me and my friend were at Starbucks and my card...   \n",
            "4  I’m on this kick of drinking 5 cups of warm wa...   \n",
            "\n",
            "                                         Image_Links  \n",
            "0                                      ['No Images']  \n",
            "1                                      ['No Images']  \n",
            "2  ['https://media.consumeraffairs.com/files/cach...  \n",
            "3                                      ['No Images']  \n",
            "4  ['https://media.consumeraffairs.com/files/cach...  \n"
          ]
        }
      ]
    },
    {
      "cell_type": "code",
      "source": [
        "import pandas as pan\n",
        "import re\n",
        "import nltk\n",
        "from nltk.corpus import stopwords\n",
        "from nltk.stem import WordNetLemmatizer\n",
        "\n",
        "# Loading stopwords and wordnet\n",
        "nltk.download('stopwords')\n",
        "nltk.download('wordnet')\n",
        "\n",
        "df.dropna(subset=['Review', 'Rating'], inplace=True)\n",
        "\n",
        "# Initializing lemmatizer\n",
        "lemmatizer = WordNetLemmatizer()\n",
        "stop_words = set(stopwords.words('english'))\n",
        "\n",
        "# Text preprocessing methodology\n",
        "def preprocess_text(text):\n",
        "    text = re.sub(r'http\\S+|www\\S+|https\\S+', '', text)\n",
        "    text = re.sub(r'\\@\\w+|\\#', '', text)\n",
        "    text = re.sub(r'[^\\w\\s]', '', text)\n",
        "    text = text.lower()\n",
        "    text = ' '.join(lemmatizer.lemmatize(word) for word in text.split() if word not in stop_words)\n",
        "    return text\n",
        "\n",
        "# Applying the text preprocessing\n",
        "df['Cleaned_Review'] = df['Review'].apply(preprocess_text)\n",
        "\n",
        "# timestamps normalising\n",
        "df['Date'] = df['Date'].str.replace('Reviewed ', '')\n",
        "df['Date'] = pan.to_datetime(df['Date'], format='%b %d, %Y', errors='coerce')\n",
        "\n",
        "# Verify results\n",
        "print(df[['Date', 'Cleaned_Review']].head())\n"
      ],
      "metadata": {
        "colab": {
          "base_uri": "https://localhost:8080/"
        },
        "id": "-x69xbD9-ELg",
        "outputId": "134a7057-3f2d-4d15-a57a-cb657fde6d89"
      },
      "execution_count": 15,
      "outputs": [
        {
          "output_type": "stream",
          "name": "stderr",
          "text": [
            "[nltk_data] Downloading package stopwords to /root/nltk_data...\n",
            "[nltk_data]   Package stopwords is already up-to-date!\n",
            "[nltk_data] Downloading package wordnet to /root/nltk_data...\n",
            "[nltk_data]   Package wordnet is already up-to-date!\n"
          ]
        },
        {
          "output_type": "stream",
          "name": "stdout",
          "text": [
            "        Date                                     Cleaned_Review\n",
            "0        NaT  amber ladonna starbucks southwest parkway alwa...\n",
            "1        NaT  starbucks fire station 436 altamonte spring fl...\n",
            "2        NaT  wanted go way recognize starbucks employee bil...\n",
            "3 2023-05-26  friend starbucks card didnt work thankful work...\n",
            "4        NaT  im kick drinking 5 cup warm water work instaca...\n"
          ]
        }
      ]
    },
    {
      "cell_type": "code",
      "source": [
        "from transformers import pipeline\n",
        "\n",
        "# pipeline for sentiment analysis\n",
        "sentiment_analyzer = pipeline('sentiment-analysis')\n",
        "\n",
        "# Analyzing the sentiments\n",
        "df['Sentiment'] = df['Cleaned_Review'].apply(lambda x: sentiment_analyzer(x)[0]['label'])\n",
        "print(df[['Cleaned_Review', 'Sentiment']].head())\n"
      ],
      "metadata": {
        "colab": {
          "base_uri": "https://localhost:8080/"
        },
        "id": "tA1dpnJ-AY69",
        "outputId": "f67c0af2-f7a0-4733-85c3-53708b498d02"
      },
      "execution_count": 16,
      "outputs": [
        {
          "output_type": "stream",
          "name": "stderr",
          "text": [
            "No model was supplied, defaulted to distilbert/distilbert-base-uncased-finetuned-sst-2-english and revision af0f99b (https://huggingface.co/distilbert/distilbert-base-uncased-finetuned-sst-2-english).\n",
            "Using a pipeline without specifying a model name and revision in production is not recommended.\n",
            "/usr/local/lib/python3.10/dist-packages/transformers/tokenization_utils_base.py:1601: FutureWarning: `clean_up_tokenization_spaces` was not set. It will be set to `True` by default. This behavior will be depracted in transformers v4.45, and will be then set to `False` by default. For more details check this issue: https://github.com/huggingface/transformers/issues/31884\n",
            "  warnings.warn(\n"
          ]
        },
        {
          "output_type": "stream",
          "name": "stdout",
          "text": [
            "                                      Cleaned_Review Sentiment\n",
            "0  amber ladonna starbucks southwest parkway alwa...  POSITIVE\n",
            "1  starbucks fire station 436 altamonte spring fl...  POSITIVE\n",
            "2  wanted go way recognize starbucks employee bil...  NEGATIVE\n",
            "3  friend starbucks card didnt work thankful work...  NEGATIVE\n",
            "4  im kick drinking 5 cup warm water work instaca...  POSITIVE\n"
          ]
        }
      ]
    },
    {
      "cell_type": "code",
      "source": [
        "# extracting the aspects\n",
        "def extract_aspects(review):\n",
        "    aspects = []\n",
        "    if 'service' in review:\n",
        "        aspects.append('Service Quality')\n",
        "    if 'product' in review:\n",
        "        aspects.append('Product Quality')\n",
        "    if 'price' in review:\n",
        "        aspects.append('Pricing')\n",
        "    return aspects\n",
        "\n",
        "df['Aspects'] = df['Cleaned_Review'].apply(extract_aspects)\n"
      ],
      "metadata": {
        "id": "LJsCorFeBVmn"
      },
      "execution_count": 17,
      "outputs": []
    },
    {
      "cell_type": "code",
      "source": [
        "import matplotlib.pyplot as plt\n",
        "import seaborn as sns\n",
        "\n",
        "fig, axes = plt.subplots(1, 2, figsize=(10, 4))\n",
        "\n",
        "# graph for sentiment analysis\n",
        "sns.countplot(data=df, x='Sentiment', ax=axes[0], palette='viridis')\n",
        "axes[0].set_title('Sentimental analysis')\n",
        "\n",
        "# graph for Aspect analysis\n",
        "aspect_counts = df.explode('Aspects')['Aspects'].value_counts()\n",
        "sns.barplot(x=aspect_counts.index, y=aspect_counts.values, ax=axes[1], palette='coolwarm')\n",
        "axes[1].set_title('Aspect analysis')\n",
        "axes[1].tick_params(axis='x', rotation=45)\n",
        "plt.subplots_adjust(wspace=0.3)\n",
        "\n",
        "\n",
        "plt.show()\n"
      ],
      "metadata": {
        "colab": {
          "base_uri": "https://localhost:8080/",
          "height": 681
        },
        "id": "ZEI0dz34BavQ",
        "outputId": "00abb0ac-1491-4943-98f0-ed82b0d0929b"
      },
      "execution_count": 18,
      "outputs": [
        {
          "output_type": "stream",
          "name": "stderr",
          "text": [
            "<ipython-input-18-703a6b029edb>:7: FutureWarning: \n",
            "\n",
            "Passing `palette` without assigning `hue` is deprecated and will be removed in v0.14.0. Assign the `x` variable to `hue` and set `legend=False` for the same effect.\n",
            "\n",
            "  sns.countplot(data=df, x='Sentiment', ax=axes[0], palette='viridis')\n",
            "<ipython-input-18-703a6b029edb>:12: FutureWarning: \n",
            "\n",
            "Passing `palette` without assigning `hue` is deprecated and will be removed in v0.14.0. Assign the `x` variable to `hue` and set `legend=False` for the same effect.\n",
            "\n",
            "  sns.barplot(x=aspect_counts.index, y=aspect_counts.values, ax=axes[1], palette='coolwarm')\n"
          ]
        },
        {
          "output_type": "display_data",
          "data": {
            "text/plain": [
              "<Figure size 1000x400 with 2 Axes>"
            ],
            "image/png": "[encoded data removed]"
          },
          "metadata": {}
        }
      ]
    },
    {
      "cell_type": "code",
      "source": [
        "insights = {\n",
        "    '1': 'Improve service quality by training staff based on customer feedback.',\n",
        "    '2': 'Expand product offerings based on popular customer preferences.',\n",
        "    '3': 'Enhance store ambiance to improve customer experience.',\n",
        "    '4': 'Adjust pricing strategies based on customer feedback on pricing.',\n",
        "    '5': 'Focus on locations with high dissatisfaction to improve overall ratings.'\n",
        "}\n"
      ],
      "metadata": {
        "id": "J_JJCmNnBfZc"
      },
      "execution_count": 19,
      "outputs": []
    }
  ]
}